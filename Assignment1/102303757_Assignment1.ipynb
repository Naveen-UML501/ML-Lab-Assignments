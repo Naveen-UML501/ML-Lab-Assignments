{
 "cells": [
  {
   "cell_type": "markdown",
   "metadata": {},
   "source": [
    "NAME: Naveen Goyal, ROLL NO: 102303757"
   ]
  },
  {
   "cell_type": "code",
   "execution_count": null,
   "metadata": {
    "colab": {
     "base_uri": "https://localhost:8080/"
    },
    "id": "tOGbufq0yQlL",
    "outputId": "e7b11e85-d243-4bc8-ba4d-4a8914cfec97"
   },
   "outputs": [
    {
     "name": "stdout",
     "output_type": "stream",
     "text": [
      "Reversed Array: [5 4 6 3 2 1]\n"
     ]
    }
   ],
   "source": [
    "#Q1: Questions on Basic NumPy Array \n",
    "#(a) Reverse the NumPy array: arr = np.array([1, 2, 3, 6, 4, 5]) \n",
    "import numpy as np\n",
    "arr = np.array([1, 2, 3, 6, 4, 5])\n",
    "reversed_arr = arr[::-1]\n",
    "print(\"Reversed Array:\", reversed_arr)\n"
   ]
  },
  {
   "cell_type": "code",
   "execution_count": null,
   "metadata": {
    "colab": {
     "base_uri": "https://localhost:8080/"
    },
    "id": "uUy9LXHZyYro",
    "outputId": "fcf71529-768a-4d2e-d061-6eba916e6ad0"
   },
   "outputs": [
    {
     "name": "stdout",
     "output_type": "stream",
     "text": [
      "Flatten (flatten): [1 2 3 2 4 5 1 2 3]\n",
      "Flatten (ravel): [1 2 3 2 4 5 1 2 3]\n"
     ]
    }
   ],
   "source": [
    "#(b) Flatten the NumPy arr: array1 = np.array([[1, 2, 3], [2, 4, 5], [1, 2, 3]]) using any twoNumPy in-built methods \n",
    "array1 = np.array([[1, 2, 3], [2, 4, 5], [1, 2, 3]])\n",
    "flat1 = array1.flatten()\n",
    "flat2 = array1.ravel()\n",
    "print(\"Flatten (flatten):\", flat1)\n",
    "print(\"Flatten (ravel):\", flat2)\n"
   ]
  },
  {
   "cell_type": "code",
   "execution_count": null,
   "metadata": {
    "colab": {
     "base_uri": "https://localhost:8080/"
    },
    "id": "9eU6SAGgybA6",
    "outputId": "ca8c2ba0-1982-4c43-881b-60d0179d5b82"
   },
   "outputs": [
    {
     "name": "stdout",
     "output_type": "stream",
     "text": [
      "Are arrays equal (element-wise)?\n",
      " [[ True  True]\n",
      " [ True  True]]\n",
      "Are arrays identical (allclose)? True\n"
     ]
    }
   ],
   "source": [
    "#(c) Compare the following numpy arrays:\n",
    "#arr1 = np.array([[1, 2], [3, 4]])\n",
    "# #arr2 = np.array([[1, 2], [3, 4]])\n",
    "arr1 = np.array([[1, 2], [3, 4]])\n",
    "arr2 = np.array([[1, 2], [3, 4]])\n",
    "\n",
    "print(\"Are arrays equal (element-wise)?\\n\", arr1 == arr2)\n",
    "print(\"Are arrays identical (allclose)?\", np.array_equal(arr1, arr2))\n"
   ]
  },
  {
   "cell_type": "code",
   "execution_count": null,
   "metadata": {
    "colab": {
     "base_uri": "https://localhost:8080/"
    },
    "id": "Xi6-GvXbydH7",
    "outputId": "6ba9d0e3-ca55-4a00-95ac-bebd75a68a6e"
   },
   "outputs": [
    {
     "name": "stdout",
     "output_type": "stream",
     "text": [
      "x: (1, array([0, 5, 7, 8, 9], dtype=int64))\n",
      "y: (1, array([0, 1, 2], dtype=int64))\n"
     ]
    }
   ],
   "source": [
    "#(d) Find the most frequent value and their indice(s) in the following arrays:\n",
    "#i. x = np.array([1,2,3,4,5,1,2,1,1,1])\n",
    "#ii. y = np.array([1, 1, 1, 2, 3, 4, 2, 4, 3, 3, ]) \n",
    "def most_frequent_with_indices(arr):\n",
    "    values, counts = np.unique(arr, return_counts=True)\n",
    "    max_count_idx = np.argmax(counts)\n",
    "    most_freq = values[max_count_idx]\n",
    "    indices = np.where(arr == most_freq)[0]\n",
    "    return most_freq, indices\n",
    "\n",
    "x = np.array([1,2,3,4,5,1,2,1,1,1])\n",
    "y = np.array([1, 1, 1, 2, 3, 4, 2, 4, 3, 3])\n",
    "\n",
    "print(\"x:\", most_frequent_with_indices(x))\n",
    "print(\"y:\", most_frequent_with_indices(y))\n"
   ]
  },
  {
   "cell_type": "code",
   "execution_count": null,
   "metadata": {
    "colab": {
     "base_uri": "https://localhost:8080/"
    },
    "id": "6pxvPOfFyg1E",
    "outputId": "3b7741c8-2ba0-4748-9138-8ab99d161c4f"
   },
   "outputs": [
    {
     "name": "stdout",
     "output_type": "stream",
     "text": [
      "Sum all elements: 45\n",
      "Sum row-wise: [[14]\n",
      " [16]\n",
      " [15]]\n",
      "Sum col-wise: [[20  9 16]]\n"
     ]
    }
   ],
   "source": [
    "#(e) For the array gfg = np.matrix('[4, 1, 9; 12, 3, 1; 4, 5, 6]'), find\n",
    "#i. Sum of all elements\n",
    "#ii. Sum of all elements row-wise\n",
    "#iii. Sum of all elements column-wise\n",
    "gfg = np.matrix('[4, 1, 9; 12, 3, 1; 4, 5, 6]')\n",
    "print(\"Sum all elements:\", np.sum(gfg))\n",
    "print(\"Sum row-wise:\", np.sum(gfg, axis=1))\n",
    "print(\"Sum col-wise:\", np.sum(gfg, axis=0))\n"
   ]
  },
  {
   "cell_type": "code",
   "execution_count": null,
   "metadata": {
    "colab": {
     "base_uri": "https://localhost:8080/"
    },
    "id": "y0s7iF5vyl3d",
    "outputId": "be06d12e-4578-4179-ab81-ef555c06021b"
   },
   "outputs": [
    {
     "name": "stdout",
     "output_type": "stream",
     "text": [
      "Diagonal sum: 176\n",
      "Eigenvalues: [98.16835147 28.097044   49.73460452]\n",
      "Eigenvectors:\n",
      " [[ 0.4574917   0.34637121 -0.15017693]\n",
      " [ 0.28447814 -0.72784061 -0.4852124 ]\n",
      " [ 0.84248058  0.59184038  0.8614034 ]]\n",
      "Inverse matrix:\n",
      " [[ 0.02404141 -0.00911212 -0.00444671]\n",
      " [-0.01667882  0.02966905  0.0024785 ]\n",
      " [ 0.00631287 -0.01603732  0.01217379]]\n",
      "Determinant: 137180.0000000001\n"
     ]
    }
   ],
   "source": [
    "#(f) For the matrix: n_array = np.array([[55, 25, 15],[30, 44, 2],[11, 45, 77]]), find\n",
    "#i. Sum of diagonal elements\n",
    "#ii. Eigen values of matrix\n",
    "#iii. Eigen vectors of matrix\n",
    "#iv. Inverse of matrix\n",
    "#v. Determinant of matrix \n",
    "n_array = np.array([\n",
    "    [55, 25, 15],\n",
    "    [30, 44, 2],\n",
    "    [11, 45, 77]\n",
    "])\n",
    "\n",
    "print(\"Diagonal sum:\", np.trace(n_array))\n",
    "eigen_values, eigen_vectors = np.linalg.eig(n_array)\n",
    "print(\"Eigenvalues:\", eigen_values)\n",
    "print(\"Eigenvectors:\\n\", eigen_vectors)\n",
    "inv = np.linalg.inv(n_array)\n",
    "print(\"Inverse matrix:\\n\", inv)\n",
    "det = np.linalg.det(n_array)\n",
    "print(\"Determinant:\", det)\n"
   ]
  },
  {
   "cell_type": "code",
   "execution_count": null,
   "metadata": {
    "colab": {
     "base_uri": "https://localhost:8080/"
    },
    "id": "-m8CMAO7yoqn",
    "outputId": "a2c26ca0-5587-4d93-9540-3d72a3b535e8"
   },
   "outputs": [
    {
     "name": "stdout",
     "output_type": "stream",
     "text": [
      "Product 1:\n",
      " [[16 19]\n",
      " [26 31]]\n",
      "Covariance (flattened):\n",
      " [[0.66666667 1.        ]\n",
      " [1.         1.66666667]]\n",
      "Product 2:\n",
      " [[16 19  5]\n",
      " [26 31  8]\n",
      " [46 55 14]]\n",
      "Covariance (flattened):\n",
      " [[2.16666667 0.23333333]\n",
      " [0.23333333 5.36666667]]\n"
     ]
    }
   ],
   "source": [
    "#(g) Multiply the following matrices and also find covariance between matrices using NumPy:\n",
    "#i. p = [[1, 2], [2, 3]]\n",
    "#q = [[4, 5], [6, 7]]\n",
    "#ii. p = [[1, 2], [2, 3], [4, 5]]\n",
    "#q = [[4, 5, 1], [6, 7, 2]]\n",
    "p1 = np.array([[1, 2], [2, 3]])\n",
    "q1 = np.array([[4, 5], [6, 7]])\n",
    "product1 = np.dot(p1, q1)\n",
    "print(\"Product 1:\\n\", product1)\n",
    "print(\"Covariance (flattened):\\n\", np.cov(p1.ravel(), q1.ravel()))\n",
    "p2 = np.array([[1, 2], [2, 3], [4, 5]])\n",
    "q2 = np.array([[4, 5, 1], [6, 7, 2]])\n",
    "product2 = np.dot(p2, q2)\n",
    "print(\"Product 2:\\n\", product2)\n",
    "print(\"Covariance (flattened):\\n\", np.cov(p2.ravel(), q2.ravel()))\n"
   ]
  },
  {
   "cell_type": "code",
   "execution_count": null,
   "metadata": {
    "colab": {
     "base_uri": "https://localhost:8080/"
    },
    "id": "GgELGxgSyrBd",
    "outputId": "97f02939-97d1-4a90-b68e-d995b875b90f"
   },
   "outputs": [
    {
     "name": "stdout",
     "output_type": "stream",
     "text": [
      "Inner product:\n",
      " [[17 52]\n",
      " [13 62]]\n",
      "Outer product:\n",
      " [[ 2 10  0 10 20  6]\n",
      " [ 3 15  0 15 30  9]\n",
      " [ 4 20  0 20 40 12]\n",
      " [ 3 15  0 15 30  9]\n",
      " [ 2 10  0 10 20  6]\n",
      " [ 9 45  0 45 90 27]]\n",
      "Cartesian product:\n",
      " [[ 2  1]\n",
      " [ 2  5]\n",
      " [ 2  0]\n",
      " [ 2  5]\n",
      " [ 2 10]\n",
      " [ 2  3]\n",
      " [ 3  1]\n",
      " [ 3  5]\n",
      " [ 3  0]\n",
      " [ 3  5]\n",
      " [ 3 10]\n",
      " [ 3  3]\n",
      " [ 4  1]\n",
      " [ 4  5]\n",
      " [ 4  0]\n",
      " [ 4  5]\n",
      " [ 4 10]\n",
      " [ 4  3]\n",
      " [ 3  1]\n",
      " [ 3  5]\n",
      " [ 3  0]\n",
      " [ 3  5]\n",
      " [ 3 10]\n",
      " [ 3  3]\n",
      " [ 2  1]\n",
      " [ 2  5]\n",
      " [ 2  0]\n",
      " [ 2  5]\n",
      " [ 2 10]\n",
      " [ 2  3]\n",
      " [ 9  1]\n",
      " [ 9  5]\n",
      " [ 9  0]\n",
      " [ 9  5]\n",
      " [ 9 10]\n",
      " [ 9  3]]\n"
     ]
    }
   ],
   "source": [
    "#(h) For the matrices: x = np.array([[2, 3, 4], [3, 2, 9]]); y = np.array([[1, 5, 0], [5, 10, 3]]),\n",
    "#find inner, outer and cartesian product?\n",
    "x = np.array([[2, 3, 4], [3, 2, 9]])\n",
    "y = np.array([[1, 5, 0], [5, 10, 3]])\n",
    "\n",
    "# Inner product\n",
    "print(\"Inner product:\\n\", np.inner(x, y))\n",
    "# Outer product\n",
    "print(\"Outer product:\\n\", np.outer(x.ravel(), y.ravel()))\n",
    "# Cartesian product (pairs)\n",
    "from itertools import product\n",
    "cartesian_prod = np.array(list(product(x.flatten(), y.flatten())))\n",
    "print(\"Cartesian product:\\n\", cartesian_prod)\n"
   ]
  },
  {
   "cell_type": "code",
   "execution_count": null,
   "metadata": {
    "colab": {
     "base_uri": "https://localhost:8080/"
    },
    "id": "64cXzKp9yxfo",
    "outputId": "b01d4ef1-e996-455d-928f-3c4459a4acef"
   },
   "outputs": [
    {
     "name": "stdout",
     "output_type": "stream",
     "text": [
      "Absolute:\n",
      " [[1 2 3]\n",
      " [4 5 6]]\n",
      "Percentile (flattened): [-3.5, -0.5, 2.5]\n",
      "Percentile (columns): [array([-2.75, -1.5 , -0.25]), array([-0.25,  1.5 ,  3.25]), array([-3.75, -1.5 ,  0.75])]\n",
      "Percentile (rows): [array([-0.5,  1. ,  2. ]), array([-5. , -4. ,  0.5])]\n",
      "Mean (flattened): -0.5\n",
      "Mean (columns): [-1.5  1.5 -1.5]\n",
      "Mean (rows): [ 0.66666667 -1.66666667]\n",
      "Median (flattened): -0.5\n",
      "Median (columns): [-1.5  1.5 -1.5]\n",
      "Median (rows): [ 1. -4.]\n",
      "Std (flattened): 3.8622100754188224\n",
      "Std (columns): [2.5 3.5 4.5]\n",
      "Std (rows): [2.05480467 4.78423336]\n"
     ]
    }
   ],
   "source": [
    "#Q2: Based on NumPy Mathematics and Statistics\n",
    "#(a) For the array: array = np.array([[1, -2, 3],[-4, 5, -6]])\n",
    "#i. Find element-wise absolute value\n",
    "#ii. Find the 25th, 50th, and 75th percentile of flattened array, for each column, for each\n",
    "#row.\n",
    "#iii. Mean, Median and Standard Deviation of flattened array, of each column, and\n",
    "#each row \n",
    "array = np.array([[1, -2, 3],[-4, 5, -6]])\n",
    "\n",
    "# i. Absolute values\n",
    "print(\"Absolute:\\n\", np.abs(array))\n",
    "\n",
    "# ii. Percentiles\n",
    "flattened = array.flatten()\n",
    "print(\"Percentile (flattened):\", [np.percentile(flattened, p) for p in [25, 50, 75]])\n",
    "print(\"Percentile (columns):\", [np.percentile(array[:,i], [25, 50, 75]) for i in range(array.shape[1])])\n",
    "print(\"Percentile (rows):\", [np.percentile(array[i], [25, 50, 75]) for i in range(array.shape[0])])\n",
    "\n",
    "# iii. Mean, Median, Stddev\n",
    "print(\"Mean (flattened):\", np.mean(flattened))\n",
    "print(\"Mean (columns):\", np.mean(array, axis=0))\n",
    "print(\"Mean (rows):\", np.mean(array, axis=1))\n",
    "print(\"Median (flattened):\", np.median(flattened))\n",
    "print(\"Median (columns):\", np.median(array, axis=0))\n",
    "print(\"Median (rows):\", np.median(array, axis=1))\n",
    "print(\"Std (flattened):\", np.std(flattened))\n",
    "print(\"Std (columns):\", np.std(array, axis=0))\n",
    "print(\"Std (rows):\", np.std(array, axis=1))\n"
   ]
  },
  {
   "cell_type": "code",
   "execution_count": null,
   "metadata": {
    "colab": {
     "base_uri": "https://localhost:8080/"
    },
    "id": "H_UjrLyqy161",
    "outputId": "c53a2d6e-41ab-400b-914d-89b265fa8277"
   },
   "outputs": [
    {
     "name": "stdout",
     "output_type": "stream",
     "text": [
      "Floor: [-2. -2. -1.  0.  1.  1.  3.]\n",
      "Ceil: [-1. -1. -0.  1.  2.  2.  3.]\n",
      "Trunc: [-1. -1. -0.  0.  1.  1.  3.]\n",
      "Rounded: [-2. -2. -0.  0.  2.  2.  3.]\n"
     ]
    }
   ],
   "source": [
    "#(b) For the array: a = np.array([-1.8, -1.6, -0.5, 0.5,1.6, 1.8, 3.0]). Find floor, ceiling\n",
    "#and truncated value, rounded values\n",
    "a = np.array([-1.8, -1.6, -0.5, 0.5, 1.6, 1.8, 3.0])\n",
    "print(\"Floor:\", np.floor(a))\n",
    "print(\"Ceil:\", np.ceil(a))\n",
    "print(\"Trunc:\", np.trunc(a))\n",
    "print(\"Rounded:\", np.round(a))\n"
   ]
  },
  {
   "cell_type": "code",
   "execution_count": null,
   "metadata": {
    "colab": {
     "base_uri": "https://localhost:8080/"
    },
    "id": "yMqXQ8eEzBuU",
    "outputId": "0afb1ef4-47bc-4221-d205-1d364d091984"
   },
   "outputs": [
    {
     "name": "stdout",
     "output_type": "stream",
     "text": [
      "Sorted: [ 10  16  16  52  54  62 453]\n",
      "Indices of sorted: [0 3 4 1 5 2 6]\n",
      "4 smallest: [16 10 16 52]\n",
      "5 largest: [ 16  52  62  54 453]\n"
     ]
    }
   ],
   "source": [
    "#Q3: Based on Searching and Sorting\n",
    "#(a) For the array: array = np.array([10, 52, 62, 16, 16, 54, 453]), find\n",
    "#i. Sorted array\n",
    "#ii. Indices of sorted array\n",
    "#iii. 4 smallest elements\n",
    "#iv. 5 largest elements \n",
    "\n",
    "array = np.array([10, 52, 62, 16, 16, 54, 453])\n",
    "\n",
    "# Sorted\n",
    "print(\"Sorted:\", np.sort(array))\n",
    "# Indices of sorted array\n",
    "print(\"Indices of sorted:\", np.argsort(array))\n",
    "# 4 smallest\n",
    "print(\"4 smallest:\", np.partition(array, 3)[:4])\n",
    "# 5 largest\n",
    "print(\"5 largest:\", np.partition(array, -5)[-5:])\n"
   ]
  },
  {
   "cell_type": "code",
   "execution_count": null,
   "metadata": {
    "colab": {
     "base_uri": "https://localhost:8080/"
    },
    "id": "DI9EhIEQzUKp",
    "outputId": "507ca0b9-bb92-435e-8d59-5268ff59d10f"
   },
   "outputs": [
    {
     "name": "stdout",
     "output_type": "stream",
     "text": [
      "Integer elements: [1. 2. 3. 2.]\n",
      "Float elements: [1.2 2.2]\n"
     ]
    }
   ],
   "source": [
    "#(b) For the array: array = np.array([1.0, 1.2, 2.2, 2.0, 3.0, 2.0]), find\n",
    "#i. Integer elements only\n",
    "#ii. Float elements only \n",
    "array = np.array([1.0, 1.2, 2.2, 2.0, 3.0, 2.0])\n",
    "\n",
    "integers = array[np.floor(array) == array]\n",
    "floats = array[np.floor(array) != array]\n",
    "print(\"Integer elements:\", integers)\n",
    "print(\"Float elements:\", floats)\n"
   ]
  },
  {
   "cell_type": "code",
   "execution_count": null,
   "metadata": {
    "id": "TRhx9-F6zW9J"
   },
   "outputs": [
    {
     "name": "stdout",
     "output_type": "stream",
     "text": [
      "Saved RGB image as image_R.txt, image_G.txt, image_B.txt\n"
     ]
    }
   ],
   "source": [
    "#Q4:\n",
    "#(a) Write a function named img_to_array(path) that reads an image from a specified path and\n",
    "#save it as text file on local machine? (Note: use separate cases for RGB and Grey Scale\n",
    "#images) \n",
    "\n",
    "from PIL import Image\n",
    "import numpy as np\n",
    "\n",
    "def img_to_array(path):\n",
    "    img = Image.open(path)\n",
    "    arr = np.array(img)\n",
    "    if len(arr.shape) == 2:  # Grayscale\n",
    "        np.savetxt(\"image_gray.txt\", arr.astype(int), fmt='%d')\n",
    "        print(\"Saved grayscale image to image_gray.txt\")\n",
    "    elif len(arr.shape) == 3:  # RGB\n",
    "        # Save each channel as a separate file or combine into one file\n",
    "        for i, color in enumerate(['R', 'G', 'B']):\n",
    "            np.savetxt(f\"image_{color}.txt\", arr[:,:,i].astype(int), fmt='%d')\n",
    "        print(\"Saved RGB image as image_R.txt, image_G.txt, image_B.txt\")\n",
    "    else:\n",
    "        print(\"Unknown image format\")\n",
    "\n",
    "img_to_array('sample_image.jpg')\n"
   ]
  },
  {
   "cell_type": "code",
   "execution_count": null,
   "metadata": {
    "id": "OqkTYeA9zZOc"
   },
   "outputs": [
    {
     "name": "stdout",
     "output_type": "stream",
     "text": [
      "[[[121 179 227]\n",
      "  [121 179 227]\n",
      "  [121 179 227]\n",
      "  ...\n",
      "  [194 226 247]\n",
      "  [194 226 247]\n",
      "  [194 226 247]]\n",
      "\n",
      " [[122 180 228]\n",
      "  [122 180 228]\n",
      "  [122 180 228]\n",
      "  ...\n",
      "  [195 227 248]\n",
      "  [195 227 248]\n",
      "  [195 227 248]]\n",
      "\n",
      " [[123 181 227]\n",
      "  [123 181 227]\n",
      "  [123 181 227]\n",
      "  ...\n",
      "  [195 227 248]\n",
      "  [195 227 248]\n",
      "  [195 227 248]]\n",
      "\n",
      " ...\n",
      "\n",
      " [[ 73  90  19]\n",
      "  [ 69  85  20]\n",
      "  [ 54  67  14]\n",
      "  ...\n",
      "  [212 238 237]\n",
      "  [163 182 176]\n",
      "  [221 227 215]]\n",
      "\n",
      " [[ 65  82  11]\n",
      "  [ 69  85  22]\n",
      "  [ 99 111  61]\n",
      "  ...\n",
      "  [191 224 231]\n",
      "  [154 175 178]\n",
      "  [206 217 213]]\n",
      "\n",
      " [[ 72  89  18]\n",
      "  [100 116  53]\n",
      "  [ 98 110  60]\n",
      "  ...\n",
      "  [182 221 238]\n",
      "  [145 173 187]\n",
      "  [199 213 224]]]\n"
     ]
    }
   ],
   "source": [
    "#(b) Load the saved file into jupyter notebook? \n",
    "# # For grayscale\n",
    "# loaded_gray = np.loadtxt(\"image_gray.txt\", dtype=int)\n",
    "# print(loaded_gray)\n",
    "\n",
    "# For RGB channel\n",
    "loaded_R = np.loadtxt(\"image_R.txt\", dtype=int)\n",
    "loaded_G = np.loadtxt(\"image_G.txt\", dtype=int)\n",
    "loaded_B = np.loadtxt(\"image_B.txt\", dtype=int)\n",
    "# To stack into an RGB image again:\n",
    "restored_img = np.stack([loaded_R, loaded_G, loaded_B], axis=-1)\n",
    "print(restored_img)\n"
   ]
  },
  {
   "cell_type": "code",
   "execution_count": null,
   "metadata": {},
   "outputs": [],
   "source": []
  }
 ],
 "metadata": {
  "colab": {
   "provenance": []
  },
  "kernelspec": {
   "display_name": "Python 3 (ipykernel)",
   "language": "python",
   "name": "python3"
  },
  "language_info": {
   "codemirror_mode": {
    "name": "ipython",
    "version": 3
   },
   "file_extension": ".py",
   "mimetype": "text/x-python",
   "name": "python",
   "nbconvert_exporter": "python",
   "pygments_lexer": "ipython3",
   "version": "3.12.3"
  }
 },
 "nbformat": 4,
 "nbformat_minor": 4
}
